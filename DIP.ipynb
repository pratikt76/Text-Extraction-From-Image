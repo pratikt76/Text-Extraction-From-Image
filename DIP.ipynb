{
  "nbformat": 4,
  "nbformat_minor": 0,
  "metadata": {
    "colab": {
      "provenance": [],
      "authorship_tag": "ABX9TyNljjGTCrmLEpXOguKhbX0Z",
      "include_colab_link": true
    },
    "kernelspec": {
      "name": "python3",
      "display_name": "Python 3"
    },
    "language_info": {
      "name": "python"
    }
  },
  "cells": [
    {
      "cell_type": "markdown",
      "metadata": {
        "id": "view-in-github",
        "colab_type": "text"
      },
      "source": [
        "<a href=\"https://colab.research.google.com/github/sidd5449/Text-Extraction-From-Image/blob/main/DIP.ipynb\" target=\"_parent\"><img src=\"https://colab.research.google.com/assets/colab-badge.svg\" alt=\"Open In Colab\"/></a>"
      ]
    },
    {
      "cell_type": "code",
      "execution_count": null,
      "metadata": {
        "id": "Kox3r40okIME"
      },
      "outputs": [],
      "source": [
        "import easyocr\n",
        "reader = easyocr.Reader(['en'])\n",
        "result = reader.readtext('test.jpg', detail = 0)\n",
        "print(result)"
      ]
    }
  ]
}